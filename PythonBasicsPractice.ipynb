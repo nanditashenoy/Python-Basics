{
 "cells": [
  {
   "cell_type": "raw",
   "id": "523d89f9-bcb4-4b8f-963a-b75cf69d0618",
   "metadata": {},
   "source": [
    "Integers"
   ]
  },
  {
   "cell_type": "code",
   "execution_count": 1369,
   "id": "187dd87b-d136-4c0c-837c-de75f728b25e",
   "metadata": {},
   "outputs": [
    {
     "data": {
      "text/plain": [
       "123"
      ]
     },
     "execution_count": 1369,
     "metadata": {},
     "output_type": "execute_result"
    }
   ],
   "source": [
    "int(123.987)"
   ]
  },
  {
   "cell_type": "code",
   "execution_count": 1370,
   "id": "17869f72-dd8d-4cdf-beba-9e0d8d2e59e1",
   "metadata": {},
   "outputs": [],
   "source": [
    "#int(10 + 5j)\n",
    "#Type Error"
   ]
  },
  {
   "cell_type": "code",
   "execution_count": 1371,
   "id": "ffbdcaa8-917a-44e3-a198-054aead62078",
   "metadata": {},
   "outputs": [
    {
     "data": {
      "text/plain": [
       "1"
      ]
     },
     "execution_count": 1371,
     "metadata": {},
     "output_type": "execute_result"
    }
   ],
   "source": [
    "int(True)"
   ]
  },
  {
   "cell_type": "code",
   "execution_count": 1372,
   "id": "3411bda9-4ec6-467c-a760-f6da523acbde",
   "metadata": {},
   "outputs": [
    {
     "data": {
      "text/plain": [
       "0"
      ]
     },
     "execution_count": 1372,
     "metadata": {},
     "output_type": "execute_result"
    }
   ],
   "source": [
    "int(False)"
   ]
  },
  {
   "cell_type": "code",
   "execution_count": 1373,
   "id": "ddf564df-3336-41e6-ba6a-da5d1d964ad9",
   "metadata": {},
   "outputs": [
    {
     "data": {
      "text/plain": [
       "10"
      ]
     },
     "execution_count": 1373,
     "metadata": {},
     "output_type": "execute_result"
    }
   ],
   "source": [
    "int(\"10\")"
   ]
  },
  {
   "cell_type": "code",
   "execution_count": 1374,
   "id": "034335e4-b952-4873-a5fb-ad84da79cf12",
   "metadata": {},
   "outputs": [],
   "source": [
    "#int(\"10.5)\n",
    "# int(\"ten\")\n",
    "# int(0B1111)\n",
    "#Value Errors: invalid literal for int() with base 10"
   ]
  },
  {
   "cell_type": "raw",
   "id": "e97acee9-7c51-45d2-9022-c15233baee72",
   "metadata": {},
   "source": [
    "Floats"
   ]
  },
  {
   "cell_type": "code",
   "execution_count": 1375,
   "id": "63fa3fd9-495e-4527-8517-478bc6610fbf",
   "metadata": {},
   "outputs": [
    {
     "data": {
      "text/plain": [
       "10.0"
      ]
     },
     "execution_count": 1375,
     "metadata": {},
     "output_type": "execute_result"
    }
   ],
   "source": [
    "float(10)"
   ]
  },
  {
   "cell_type": "code",
   "execution_count": 1376,
   "id": "3f9b8cbd-849b-4548-a589-4dcf96fd810d",
   "metadata": {},
   "outputs": [],
   "source": [
    "#float(10 + 5j)\n",
    "#Type Error"
   ]
  },
  {
   "cell_type": "code",
   "execution_count": 1377,
   "id": "9d492765-b1c9-440e-942d-b3f8c4bab8d3",
   "metadata": {},
   "outputs": [
    {
     "data": {
      "text/plain": [
       "1.0"
      ]
     },
     "execution_count": 1377,
     "metadata": {},
     "output_type": "execute_result"
    }
   ],
   "source": [
    "float(True)"
   ]
  },
  {
   "cell_type": "code",
   "execution_count": 1378,
   "id": "900fd11f-7a1f-43bd-a5d9-446fddb4d580",
   "metadata": {},
   "outputs": [
    {
     "data": {
      "text/plain": [
       "0.0"
      ]
     },
     "execution_count": 1378,
     "metadata": {},
     "output_type": "execute_result"
    }
   ],
   "source": [
    "float(False)"
   ]
  },
  {
   "cell_type": "code",
   "execution_count": 1379,
   "id": "0c4534a8-6bf0-4e69-8ae0-15735af00eaa",
   "metadata": {},
   "outputs": [
    {
     "data": {
      "text/plain": [
       "10.0"
      ]
     },
     "execution_count": 1379,
     "metadata": {},
     "output_type": "execute_result"
    }
   ],
   "source": [
    "float(\"10\")"
   ]
  },
  {
   "cell_type": "code",
   "execution_count": 1380,
   "id": "e6e3c0f2-a429-4bc4-8f27-2505e73d3a58",
   "metadata": {},
   "outputs": [
    {
     "data": {
      "text/plain": [
       "10.5"
      ]
     },
     "execution_count": 1380,
     "metadata": {},
     "output_type": "execute_result"
    }
   ],
   "source": [
    "float(\"10.5\")"
   ]
  },
  {
   "cell_type": "code",
   "execution_count": 1381,
   "id": "d0752602-c464-483d-8b97-5686783daba7",
   "metadata": {},
   "outputs": [],
   "source": [
    "#float(\"ten\")\n",
    "#float(\"0B1111\")\n",
    "#Value Errors: could not convert string to float"
   ]
  },
  {
   "cell_type": "raw",
   "id": "109a5345-5402-43e8-b152-29262e1102c1",
   "metadata": {},
   "source": [
    "Bool"
   ]
  },
  {
   "cell_type": "code",
   "execution_count": 1382,
   "id": "a9ca928e-14fc-485f-a265-cb7359f0d510",
   "metadata": {},
   "outputs": [
    {
     "data": {
      "text/plain": [
       "False"
      ]
     },
     "execution_count": 1382,
     "metadata": {},
     "output_type": "execute_result"
    }
   ],
   "source": [
    "bool(0)"
   ]
  },
  {
   "cell_type": "code",
   "execution_count": 1383,
   "id": "4a376928-e693-4f26-8cd1-bf4305d8167c",
   "metadata": {},
   "outputs": [
    {
     "data": {
      "text/plain": [
       "True"
      ]
     },
     "execution_count": 1383,
     "metadata": {},
     "output_type": "execute_result"
    }
   ],
   "source": [
    "bool(1)"
   ]
  },
  {
   "cell_type": "code",
   "execution_count": 1384,
   "id": "6339d10b-928e-4569-b7e2-d60869b4d331",
   "metadata": {},
   "outputs": [
    {
     "data": {
      "text/plain": [
       "True"
      ]
     },
     "execution_count": 1384,
     "metadata": {},
     "output_type": "execute_result"
    }
   ],
   "source": [
    "bool(10)"
   ]
  },
  {
   "cell_type": "code",
   "execution_count": 1385,
   "id": "ea6b4530-5118-4b55-a3a8-34b2c1ad0691",
   "metadata": {},
   "outputs": [
    {
     "data": {
      "text/plain": [
       "True"
      ]
     },
     "execution_count": 1385,
     "metadata": {},
     "output_type": "execute_result"
    }
   ],
   "source": [
    "bool(10.5)"
   ]
  },
  {
   "cell_type": "code",
   "execution_count": 1386,
   "id": "c5a195f7-aaa2-4d15-9131-a97b1f500083",
   "metadata": {},
   "outputs": [
    {
     "data": {
      "text/plain": [
       "True"
      ]
     },
     "execution_count": 1386,
     "metadata": {},
     "output_type": "execute_result"
    }
   ],
   "source": [
    "bool(0.178)"
   ]
  },
  {
   "cell_type": "code",
   "execution_count": 1387,
   "id": "b48e94c3-7d57-4341-bd23-4d37781b52cc",
   "metadata": {},
   "outputs": [
    {
     "data": {
      "text/plain": [
       "False"
      ]
     },
     "execution_count": 1387,
     "metadata": {},
     "output_type": "execute_result"
    }
   ],
   "source": [
    "bool(0.0)"
   ]
  },
  {
   "cell_type": "code",
   "execution_count": 1388,
   "id": "0ead278a-adab-46ba-b7d0-93f49efbe755",
   "metadata": {},
   "outputs": [
    {
     "data": {
      "text/plain": [
       "True"
      ]
     },
     "execution_count": 1388,
     "metadata": {},
     "output_type": "execute_result"
    }
   ],
   "source": [
    "bool(10 - 2j)"
   ]
  },
  {
   "cell_type": "code",
   "execution_count": 1389,
   "id": "15391d8f-07c3-4530-b491-f82556145c5f",
   "metadata": {},
   "outputs": [
    {
     "data": {
      "text/plain": [
       "True"
      ]
     },
     "execution_count": 1389,
     "metadata": {},
     "output_type": "execute_result"
    }
   ],
   "source": [
    "bool(0 + 1.5j)"
   ]
  },
  {
   "cell_type": "code",
   "execution_count": 1390,
   "id": "370cb7d7-879a-41cb-afd3-58b836db1b65",
   "metadata": {},
   "outputs": [
    {
     "data": {
      "text/plain": [
       "False"
      ]
     },
     "execution_count": 1390,
     "metadata": {},
     "output_type": "execute_result"
    }
   ],
   "source": [
    "bool(0 + 0j)"
   ]
  },
  {
   "cell_type": "code",
   "execution_count": 1391,
   "id": "3e19eb7e-711e-47ef-a405-3b617c598ed4",
   "metadata": {},
   "outputs": [
    {
     "data": {
      "text/plain": [
       "True"
      ]
     },
     "execution_count": 1391,
     "metadata": {},
     "output_type": "execute_result"
    }
   ],
   "source": [
    "bool(\"True\")"
   ]
  },
  {
   "cell_type": "code",
   "execution_count": 1392,
   "id": "d5dcd257-2d86-4dd5-be3a-b6a5ab98d3a2",
   "metadata": {},
   "outputs": [
    {
     "data": {
      "text/plain": [
       "True"
      ]
     },
     "execution_count": 1392,
     "metadata": {},
     "output_type": "execute_result"
    }
   ],
   "source": [
    "bool(\"False\")"
   ]
  },
  {
   "cell_type": "code",
   "execution_count": 1393,
   "id": "03d95eb6-247b-4511-8483-1a7e6758c50f",
   "metadata": {},
   "outputs": [
    {
     "data": {
      "text/plain": [
       "False"
      ]
     },
     "execution_count": 1393,
     "metadata": {},
     "output_type": "execute_result"
    }
   ],
   "source": [
    "bool(\"\")"
   ]
  },
  {
   "cell_type": "raw",
   "id": "16d78068-3e68-4fea-9916-c4e49dbc1c55",
   "metadata": {},
   "source": [
    "Slicing"
   ]
  },
  {
   "cell_type": "code",
   "execution_count": 1394,
   "id": "2fbfb67a-f316-47e0-b826-dcc5abd5621e",
   "metadata": {},
   "outputs": [
    {
     "data": {
      "text/plain": [
       "'ac'"
      ]
     },
     "execution_count": 1394,
     "metadata": {},
     "output_type": "execute_result"
    }
   ],
   "source": [
    "str1 = \"face\"\n",
    "str1[1:3]"
   ]
  },
  {
   "cell_type": "code",
   "execution_count": 1395,
   "id": "57e8926e-9d04-46ca-943c-77aa856ba79b",
   "metadata": {},
   "outputs": [
    {
     "data": {
      "text/plain": [
       "'ac'"
      ]
     },
     "execution_count": 1395,
     "metadata": {},
     "output_type": "execute_result"
    }
   ],
   "source": [
    "str1[-3:-1]"
   ]
  },
  {
   "cell_type": "code",
   "execution_count": 1396,
   "id": "3e848412-0602-47ff-95e9-9e5a3b9e3a23",
   "metadata": {},
   "outputs": [],
   "source": [
    "a = \"I am a Data Scientist\""
   ]
  },
  {
   "cell_type": "code",
   "execution_count": 1397,
   "id": "ac252b83-2c16-4c93-bb0a-1bd78c41ccd4",
   "metadata": {},
   "outputs": [
    {
     "data": {
      "text/plain": [
       "'am'"
      ]
     },
     "execution_count": 1397,
     "metadata": {},
     "output_type": "execute_result"
    }
   ],
   "source": [
    "a[2:4]"
   ]
  },
  {
   "cell_type": "code",
   "execution_count": 1398,
   "id": "ddb696d2-d44a-46f5-9e69-4e7e61eb464f",
   "metadata": {},
   "outputs": [
    {
     "data": {
      "text/plain": [
       "'Scientist'"
      ]
     },
     "execution_count": 1398,
     "metadata": {},
     "output_type": "execute_result"
    }
   ],
   "source": [
    "a[-9:]"
   ]
  },
  {
   "cell_type": "code",
   "execution_count": 1399,
   "id": "69498f33-9e64-4ac7-b2f9-db691635bcef",
   "metadata": {},
   "outputs": [
    {
     "data": {
      "text/plain": [
       "'Data Scientist'"
      ]
     },
     "execution_count": 1399,
     "metadata": {},
     "output_type": "execute_result"
    }
   ],
   "source": [
    "a[7:]"
   ]
  },
  {
   "cell_type": "code",
   "execution_count": 1400,
   "id": "a9018c1c-e36a-475e-868e-c74fe92085d5",
   "metadata": {},
   "outputs": [
    {
     "data": {
      "text/plain": [
       "'I am a '"
      ]
     },
     "execution_count": 1400,
     "metadata": {},
     "output_type": "execute_result"
    }
   ],
   "source": [
    "a[:7]"
   ]
  },
  {
   "cell_type": "code",
   "execution_count": 1401,
   "id": "0efdbfce-14b7-4c8d-a180-1bf0bbf9186f",
   "metadata": {},
   "outputs": [],
   "source": [
    "my_list = [1, 2, 3, 4, 5, 6, 7, 8, 9, 10]"
   ]
  },
  {
   "cell_type": "code",
   "execution_count": 1402,
   "id": "2ecb11f4-0c52-4057-aef3-0d9b742c9260",
   "metadata": {},
   "outputs": [
    {
     "name": "stdout",
     "output_type": "stream",
     "text": [
      "[3, 4, 5, 6]\n"
     ]
    }
   ],
   "source": [
    "slice_1 = my_list[2:6]\n",
    "print(slice_1)"
   ]
  },
  {
   "cell_type": "code",
   "execution_count": 1403,
   "id": "71e71dc8-19b2-4d6c-ac2f-4250aff23e6e",
   "metadata": {},
   "outputs": [
    {
     "name": "stdout",
     "output_type": "stream",
     "text": [
      "[2, 3, 4, 5, 6, 7, 8, 9, 10]\n"
     ]
    }
   ],
   "source": [
    "slice_2 = my_list[1:]\n",
    "print(slice_2)"
   ]
  },
  {
   "cell_type": "code",
   "execution_count": 1404,
   "id": "259f6e4e-a4b4-401b-9a17-d6850481a21c",
   "metadata": {},
   "outputs": [
    {
     "name": "stdout",
     "output_type": "stream",
     "text": [
      "[1, 2, 3, 4, 5]\n"
     ]
    }
   ],
   "source": [
    "slice_3 = my_list[:5]\n",
    "print(slice_3)"
   ]
  },
  {
   "cell_type": "code",
   "execution_count": 1405,
   "id": "80fe0a04-db58-4bd5-b238-695746c92bda",
   "metadata": {},
   "outputs": [
    {
     "name": "stdout",
     "output_type": "stream",
     "text": [
      "[1, 3, 5, 7, 9]\n"
     ]
    }
   ],
   "source": [
    "slice_4 = my_list[::2]\n",
    "print(slice_4)"
   ]
  },
  {
   "cell_type": "code",
   "execution_count": 1406,
   "id": "366584c2-0933-4843-9b04-9031bc7924c4",
   "metadata": {},
   "outputs": [],
   "source": [
    "my_string = \"Hello, World!\""
   ]
  },
  {
   "cell_type": "code",
   "execution_count": 1407,
   "id": "89f4ff6f-e011-4b8e-970e-de175f12959b",
   "metadata": {},
   "outputs": [
    {
     "name": "stdout",
     "output_type": "stream",
     "text": [
      "World!\n"
     ]
    }
   ],
   "source": [
    "slice_5 = my_string[7:]\n",
    "print(slice_5)"
   ]
  },
  {
   "cell_type": "code",
   "execution_count": 1408,
   "id": "e792e367-2fea-49a5-a650-b243191b356a",
   "metadata": {},
   "outputs": [
    {
     "name": "stdout",
     "output_type": "stream",
     "text": [
      "Hello\n"
     ]
    }
   ],
   "source": [
    "slice_6 = my_string[:5]\n",
    "print(slice_6)"
   ]
  },
  {
   "cell_type": "code",
   "execution_count": 1409,
   "id": "2ef2fdf9-7189-410e-8b23-9946e4d4d3fd",
   "metadata": {},
   "outputs": [
    {
     "name": "stdout",
     "output_type": "stream",
     "text": [
      "Hlo ol!\n"
     ]
    }
   ],
   "source": [
    "slice_7 = my_string[::2]\n",
    "print(slice_7)"
   ]
  },
  {
   "cell_type": "code",
   "execution_count": 1410,
   "id": "53558fe0-1527-4efd-80e3-af3e77e1ae13",
   "metadata": {},
   "outputs": [
    {
     "name": "stdout",
     "output_type": "stream",
     "text": [
      "[9, 10]\n"
     ]
    }
   ],
   "source": [
    "slice_8 = my_list[-2:]\n",
    "print(slice_8)"
   ]
  },
  {
   "cell_type": "code",
   "execution_count": 1411,
   "id": "0d86454b-8249-4e3d-b075-614b00e2e96d",
   "metadata": {},
   "outputs": [
    {
     "name": "stdout",
     "output_type": "stream",
     "text": [
      "[1, 2, 3, 4, 5, 6, 7]\n"
     ]
    }
   ],
   "source": [
    "slice_9 = my_list[:-3]\n",
    "print(slice_9)"
   ]
  },
  {
   "cell_type": "code",
   "execution_count": 1412,
   "id": "3104b458-1d0d-4b9a-bbdc-1d827589d65b",
   "metadata": {},
   "outputs": [
    {
     "name": "stdout",
     "output_type": "stream",
     "text": [
      "[10, 9, 8, 7, 6, 5, 4, 3, 2, 1]\n"
     ]
    }
   ],
   "source": [
    "slice_10 = my_list[::-1]\n",
    "print(slice_10)"
   ]
  },
  {
   "cell_type": "raw",
   "id": "d47838e1-f75b-4cf1-a9c0-0587c60c9f74",
   "metadata": {},
   "source": [
    "Arithmetic Operators"
   ]
  },
  {
   "cell_type": "code",
   "execution_count": 1413,
   "id": "888ef14b-0c85-4890-928e-a3186e144fca",
   "metadata": {},
   "outputs": [
    {
     "name": "stdout",
     "output_type": "stream",
     "text": [
      "14\n",
      "6\n",
      "40\n",
      "10000\n",
      "2.5\n",
      "1\n"
     ]
    }
   ],
   "source": [
    "print(10 + 4)\n",
    "print(10 - 4)\n",
    "print(10 * 4)\n",
    "print(10 ** 4)\n",
    "print(10 / 4)\n",
    "print(5 % 4)"
   ]
  },
  {
   "cell_type": "code",
   "execution_count": 1414,
   "id": "8223d5b7-c6cb-4ad0-a150-a6db2fd22d8d",
   "metadata": {},
   "outputs": [
    {
     "name": "stdout",
     "output_type": "stream",
     "text": [
      "True\n",
      "True\n",
      "False\n",
      "True\n"
     ]
    }
   ],
   "source": [
    "print(5 > 3)\n",
    "print(5 >= 3)\n",
    "print(5 != 5)\n",
    "print(5 == 5)"
   ]
  },
  {
   "cell_type": "code",
   "execution_count": 1415,
   "id": "f9217654-9ffb-4ec6-96c2-9d4c0141d4c6",
   "metadata": {},
   "outputs": [
    {
     "name": "stdout",
     "output_type": "stream",
     "text": [
      "False\n",
      "True\n",
      "False\n",
      "True\n",
      "True\n",
      "False\n"
     ]
    }
   ],
   "source": [
    "print(10 == 20)\n",
    "print(10 != 20)\n",
    "print(10 == True)\n",
    "print(False == False)\n",
    "print(\"durga\" == \"durga\")\n",
    "print(10 == \"durga\")"
   ]
  },
  {
   "cell_type": "raw",
   "id": "2aa04062-258a-4c04-a034-7f6b4958998b",
   "metadata": {},
   "source": [
    "Logical Operators"
   ]
  },
  {
   "cell_type": "code",
   "execution_count": 1416,
   "id": "2708716a-f824-4fae-b7be-173535622208",
   "metadata": {},
   "outputs": [
    {
     "name": "stdout",
     "output_type": "stream",
     "text": [
      "Both a and b are greater than 0\n"
     ]
    }
   ],
   "source": [
    "a = 10\n",
    "b = 20\n",
    "if a > 0 and b > 0:\n",
    "    print(\"Both a and b are greater than 0\")"
   ]
  },
  {
   "cell_type": "code",
   "execution_count": 1417,
   "id": "d4f019c9-9eff-4041-9de9-7ffe279e0e94",
   "metadata": {},
   "outputs": [
    {
     "name": "stdout",
     "output_type": "stream",
     "text": [
      "Either a or b is greater than 0\n"
     ]
    }
   ],
   "source": [
    "a = 10\n",
    "b = -5\n",
    "if a > 0 or b > 0:\n",
    "    print(\"Either a or b is greater than 0\")"
   ]
  },
  {
   "cell_type": "code",
   "execution_count": 1418,
   "id": "acac6a9d-cbd6-4e6d-a8c2-69ff9fb4ed9e",
   "metadata": {},
   "outputs": [
    {
     "name": "stdout",
     "output_type": "stream",
     "text": [
      "a is true\n"
     ]
    }
   ],
   "source": [
    "a = True\n",
    "if not a:\n",
    "    print(\"a is false\")\n",
    "else:\n",
    "    print(\"a is true\")"
   ]
  },
  {
   "cell_type": "raw",
   "id": "9250560d-2e0b-4e1a-ad72-473458427697",
   "metadata": {},
   "source": [
    "Bitwise Operators"
   ]
  },
  {
   "cell_type": "code",
   "execution_count": 1419,
   "id": "5d327f59-6235-40ca-8afb-5e5df257ab0f",
   "metadata": {},
   "outputs": [
    {
     "name": "stdout",
     "output_type": "stream",
     "text": [
      "4\n"
     ]
    }
   ],
   "source": [
    "a = 12\n",
    "b = 7\n",
    "result = a & b\n",
    "print(result)"
   ]
  },
  {
   "cell_type": "code",
   "execution_count": 1420,
   "id": "ed57d99e-90c7-4557-b670-25f1800bf786",
   "metadata": {},
   "outputs": [
    {
     "name": "stdout",
     "output_type": "stream",
     "text": [
      "15\n"
     ]
    }
   ],
   "source": [
    "a = 12\n",
    "b = 7\n",
    "result = a | b\n",
    "print(result)"
   ]
  },
  {
   "cell_type": "code",
   "execution_count": 1421,
   "id": "2509c36f-ae70-430a-9541-3a056b772817",
   "metadata": {},
   "outputs": [
    {
     "name": "stdout",
     "output_type": "stream",
     "text": [
      "11\n"
     ]
    }
   ],
   "source": [
    "a = 12\n",
    "b = 7\n",
    "result = a ^ b\n",
    "print(result)"
   ]
  },
  {
   "cell_type": "code",
   "execution_count": 1422,
   "id": "d0665e13-0b33-401b-bec7-0810582e5ce3",
   "metadata": {},
   "outputs": [
    {
     "name": "stdout",
     "output_type": "stream",
     "text": [
      "-13\n"
     ]
    }
   ],
   "source": [
    "a = 12\n",
    "result = ~a\n",
    "print(result)"
   ]
  },
  {
   "cell_type": "code",
   "execution_count": 1423,
   "id": "be4b1e1b-5432-49cf-95c4-8159324b89fe",
   "metadata": {},
   "outputs": [
    {
     "name": "stdout",
     "output_type": "stream",
     "text": [
      "20\n"
     ]
    }
   ],
   "source": [
    "a = 5\n",
    "result = a << 2\n",
    "print(result)"
   ]
  },
  {
   "cell_type": "code",
   "execution_count": 1424,
   "id": "d83176fc-8c88-4cd0-9363-cd6fb01edc24",
   "metadata": {},
   "outputs": [
    {
     "name": "stdout",
     "output_type": "stream",
     "text": [
      "3\n"
     ]
    }
   ],
   "source": [
    "a = 13\n",
    "result = a >> 2\n",
    "print(result)"
   ]
  },
  {
   "cell_type": "raw",
   "id": "12b27093-4d83-48ca-9d58-ed03ce1daa83",
   "metadata": {},
   "source": [
    "Assignment Operators"
   ]
  },
  {
   "cell_type": "code",
   "execution_count": 1425,
   "id": "5a0f96a2-507b-4b0a-b5cf-5aacdd264ebf",
   "metadata": {},
   "outputs": [
    {
     "name": "stdout",
     "output_type": "stream",
     "text": [
      "10\n"
     ]
    }
   ],
   "source": [
    "x = 10\n",
    "print(x)"
   ]
  },
  {
   "cell_type": "code",
   "execution_count": 1426,
   "id": "68820456-097c-47eb-a873-9117f8630dd1",
   "metadata": {},
   "outputs": [
    {
     "name": "stdout",
     "output_type": "stream",
     "text": [
      "15\n"
     ]
    }
   ],
   "source": [
    "x += 5\n",
    "print(x)"
   ]
  },
  {
   "cell_type": "code",
   "execution_count": 1427,
   "id": "35a8d0e7-f1b9-429e-bd06-81e3713ec8b7",
   "metadata": {},
   "outputs": [
    {
     "name": "stdout",
     "output_type": "stream",
     "text": [
      "12\n"
     ]
    }
   ],
   "source": [
    "x -= 3\n",
    "print(x)"
   ]
  },
  {
   "cell_type": "code",
   "execution_count": 1428,
   "id": "61404cd7-4fa0-4d0d-ba60-e0d72c497989",
   "metadata": {},
   "outputs": [
    {
     "name": "stdout",
     "output_type": "stream",
     "text": [
      "24\n"
     ]
    }
   ],
   "source": [
    "x *= 2\n",
    "print(x)"
   ]
  },
  {
   "cell_type": "code",
   "execution_count": 1429,
   "id": "e1eeaa9b-26ea-4461-bce2-80f95af96a7a",
   "metadata": {},
   "outputs": [
    {
     "name": "stdout",
     "output_type": "stream",
     "text": [
      "6.0\n"
     ]
    }
   ],
   "source": [
    "x /= 4\n",
    "print(x)"
   ]
  },
  {
   "cell_type": "code",
   "execution_count": 1430,
   "id": "eb7c8c0e-1857-4bcf-9a9b-e85af5ea612e",
   "metadata": {},
   "outputs": [
    {
     "name": "stdout",
     "output_type": "stream",
     "text": [
      "0.0\n"
     ]
    }
   ],
   "source": [
    "x %= 3\n",
    "print(x)"
   ]
  },
  {
   "cell_type": "code",
   "execution_count": 1431,
   "id": "a97269fd-58cd-457b-8c3c-9d8c76b5e538",
   "metadata": {},
   "outputs": [
    {
     "name": "stdout",
     "output_type": "stream",
     "text": [
      "0.0\n"
     ]
    }
   ],
   "source": [
    "x **= 2\n",
    "print(x)"
   ]
  },
  {
   "cell_type": "code",
   "execution_count": 1432,
   "id": "10c134f1-d5fa-43e1-ad6f-e6aa4956c1d7",
   "metadata": {},
   "outputs": [
    {
     "name": "stdout",
     "output_type": "stream",
     "text": [
      "0.0\n"
     ]
    }
   ],
   "source": [
    "x //= 3\n",
    "print(x)"
   ]
  },
  {
   "cell_type": "code",
   "execution_count": 1433,
   "id": "e32ff351-0169-469c-b375-a704985d83e5",
   "metadata": {},
   "outputs": [
    {
     "name": "stdout",
     "output_type": "stream",
     "text": [
      "15\n"
     ]
    }
   ],
   "source": [
    "x = 10 + 5\n",
    "print(x)"
   ]
  },
  {
   "cell_type": "code",
   "execution_count": 1434,
   "id": "055ea5f7-24a9-4be2-9c52-981e975dc758",
   "metadata": {},
   "outputs": [
    {
     "name": "stdout",
     "output_type": "stream",
     "text": [
      "5\n"
     ]
    }
   ],
   "source": [
    "y = 10 - 5\n",
    "print(y)"
   ]
  },
  {
   "cell_type": "code",
   "execution_count": 1435,
   "id": "33061860-ccaa-4682-88d1-e38036d3b8d8",
   "metadata": {},
   "outputs": [
    {
     "name": "stdout",
     "output_type": "stream",
     "text": [
      "50\n"
     ]
    }
   ],
   "source": [
    "z = 10 * 5\n",
    "print(z)"
   ]
  },
  {
   "cell_type": "code",
   "execution_count": 1436,
   "id": "24678d6a-6a85-4689-83dc-c6a8134e1343",
   "metadata": {},
   "outputs": [
    {
     "name": "stdout",
     "output_type": "stream",
     "text": [
      "2.0\n"
     ]
    }
   ],
   "source": [
    "w = 10 / 5\n",
    "print(w)"
   ]
  },
  {
   "cell_type": "code",
   "execution_count": 1437,
   "id": "17a8e285-688e-4235-8f0b-3b8aed28ad80",
   "metadata": {},
   "outputs": [
    {
     "name": "stdout",
     "output_type": "stream",
     "text": [
      "1\n"
     ]
    }
   ],
   "source": [
    "mod = 10 % 3\n",
    "print(mod)"
   ]
  },
  {
   "cell_type": "code",
   "execution_count": 1438,
   "id": "179c9265-0b68-4995-a370-34c1e520d144",
   "metadata": {},
   "outputs": [
    {
     "name": "stdout",
     "output_type": "stream",
     "text": [
      "1000\n"
     ]
    }
   ],
   "source": [
    "exp = 10 ** 3\n",
    "print(exp)"
   ]
  },
  {
   "cell_type": "code",
   "execution_count": 1439,
   "id": "bc317528-fc4a-448d-8dc6-04b15e0cb93a",
   "metadata": {},
   "outputs": [
    {
     "name": "stdout",
     "output_type": "stream",
     "text": [
      "3\n"
     ]
    }
   ],
   "source": [
    "floor_div = 10 // 3\n",
    "print(floor_div)"
   ]
  },
  {
   "cell_type": "code",
   "execution_count": 1440,
   "id": "369001f8-8c0f-4cba-8374-5cde5703f5c5",
   "metadata": {},
   "outputs": [
    {
     "name": "stdout",
     "output_type": "stream",
     "text": [
      "8\n"
     ]
    }
   ],
   "source": [
    "a = 5\n",
    "a += 3\n",
    "print(a)"
   ]
  },
  {
   "cell_type": "code",
   "execution_count": 1441,
   "id": "a11b16d7-f4c8-4b56-99d2-b550a9e5baec",
   "metadata": {},
   "outputs": [
    {
     "name": "stdout",
     "output_type": "stream",
     "text": [
      "2\n"
     ]
    }
   ],
   "source": [
    "b = 5\n",
    "b -= 3\n",
    "print(b)"
   ]
  },
  {
   "cell_type": "code",
   "execution_count": 1442,
   "id": "dd771a06-c0bd-48e3-af10-269e15d1f4cb",
   "metadata": {},
   "outputs": [
    {
     "name": "stdout",
     "output_type": "stream",
     "text": [
      "15\n"
     ]
    }
   ],
   "source": [
    "c = 5\n",
    "c *= 3\n",
    "print(c)"
   ]
  },
  {
   "cell_type": "code",
   "execution_count": 1443,
   "id": "f4ff4e66-24ef-4347-857a-dfded1fc14ef",
   "metadata": {},
   "outputs": [
    {
     "name": "stdout",
     "output_type": "stream",
     "text": [
      "1.6666666666666667\n"
     ]
    }
   ],
   "source": [
    "d = 5\n",
    "d /= 3\n",
    "print(d)"
   ]
  },
  {
   "cell_type": "code",
   "execution_count": 1444,
   "id": "57b0abfd-f48d-4817-acf3-b6ecf1091ba0",
   "metadata": {},
   "outputs": [
    {
     "name": "stdout",
     "output_type": "stream",
     "text": [
      "2\n"
     ]
    }
   ],
   "source": [
    "e = 5\n",
    "e %= 3\n",
    "print(e)"
   ]
  },
  {
   "cell_type": "code",
   "execution_count": 1445,
   "id": "8ea11b6b-715b-4d38-af48-2eb3b07d4d89",
   "metadata": {},
   "outputs": [
    {
     "name": "stdout",
     "output_type": "stream",
     "text": [
      "125\n"
     ]
    }
   ],
   "source": [
    "f = 5\n",
    "f **= 3\n",
    "print(f)"
   ]
  },
  {
   "cell_type": "code",
   "execution_count": 1446,
   "id": "e80ac6ed-1880-4c1c-a491-917c228dfe71",
   "metadata": {},
   "outputs": [
    {
     "name": "stdout",
     "output_type": "stream",
     "text": [
      "1\n"
     ]
    }
   ],
   "source": [
    "g = 5\n",
    "g //= 3\n",
    "print(g)"
   ]
  },
  {
   "cell_type": "code",
   "execution_count": 1447,
   "id": "109c7d7a-4710-4383-b60c-4fbb4bcbc41f",
   "metadata": {},
   "outputs": [
    {
     "name": "stdout",
     "output_type": "stream",
     "text": [
      "False\n",
      "True\n",
      "False\n",
      "True\n",
      "False\n",
      "True\n"
     ]
    }
   ],
   "source": [
    "x = 5\n",
    "y = 10\n",
    "print(x == y)\n",
    "print(x != y)\n",
    "print(x > y)\n",
    "print(x < y)\n",
    "print(x >= y)\n",
    "print(x <= y)"
   ]
  },
  {
   "cell_type": "code",
   "execution_count": 1448,
   "id": "6662ba45-5070-4d3b-8035-04dadce457bc",
   "metadata": {},
   "outputs": [
    {
     "name": "stdout",
     "output_type": "stream",
     "text": [
      "False\n",
      "True\n",
      "False\n"
     ]
    }
   ],
   "source": [
    "a = True\n",
    "b = False\n",
    "print(a and b)\n",
    "print(a or b)\n",
    "print(not a)"
   ]
  },
  {
   "cell_type": "code",
   "execution_count": 1449,
   "id": "19a4ac41-7339-4971-80f6-add019158915",
   "metadata": {},
   "outputs": [
    {
     "name": "stdout",
     "output_type": "stream",
     "text": [
      "2\n",
      "15\n",
      "13\n",
      "-11\n",
      "40\n",
      "2\n"
     ]
    }
   ],
   "source": [
    "x = 10\n",
    "y = 7\n",
    "print(x & y)\n",
    "print(x | y)\n",
    "print(x ^ y)\n",
    "print(~x)\n",
    "print(x << 2)\n",
    "print(x >> 2)"
   ]
  }
 ],
 "metadata": {
  "kernelspec": {
   "display_name": "Python 3 (ipykernel)",
   "language": "python",
   "name": "python3"
  },
  "language_info": {
   "codemirror_mode": {
    "name": "ipython",
    "version": 3
   },
   "file_extension": ".py",
   "mimetype": "text/x-python",
   "name": "python",
   "nbconvert_exporter": "python",
   "pygments_lexer": "ipython3",
   "version": "3.11.7"
  }
 },
 "nbformat": 4,
 "nbformat_minor": 5
}
