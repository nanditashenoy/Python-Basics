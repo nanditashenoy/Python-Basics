{
 "cells": [
  {
   "cell_type": "raw",
   "id": "407a631d-ed67-431d-93bf-d838142af06f",
   "metadata": {},
   "source": [
    "#Data Structure in Python"
   ]
  },
  {
   "cell_type": "raw",
   "id": "589fe957-41ab-4daa-b4ef-66a58b851cb4",
   "metadata": {},
   "source": [
    "- Help in storing and organizing data components efficiently\n",
    "- In python, we have multiple in-built ds\n",
    "- All ds serve different purpose and have unique characteristics"
   ]
  },
  {
   "cell_type": "raw",
   "id": "b84f151f-f53c-4a97-818d-6330df20e821",
   "metadata": {},
   "source": [
    "## Lists\n",
    "- Ordered form\n",
    "- all elements are mutable (changed)\n",
    "- Always in [_]\n"
   ]
  },
  {
   "cell_type": "code",
   "execution_count": 34,
   "id": "46b74e5f-60e9-4fbc-b35d-14373ed03495",
   "metadata": {},
   "outputs": [
    {
     "name": "stdout",
     "output_type": "stream",
     "text": [
      "['banana', 1, 'apple', 2, 'cherry']\n"
     ]
    }
   ],
   "source": [
    "# Create a list\n",
    "fruits = [\"banana\", 1,\"apple\", 2, \"cherry\",]\n",
    "print(fruits)"
   ]
  },
  {
   "cell_type": "code",
   "execution_count": 35,
   "id": "3a8062c4-92e9-4828-9c70-8946708ca9fa",
   "metadata": {},
   "outputs": [
    {
     "name": "stdout",
     "output_type": "stream",
     "text": [
      "apple\n"
     ]
    }
   ],
   "source": [
    "# Access the element\n",
    "print(fruits[2])"
   ]
  },
  {
   "cell_type": "code",
   "execution_count": 36,
   "id": "6e3bc104-d090-44e2-8dc7-4b677f5c8d5b",
   "metadata": {},
   "outputs": [
    {
     "name": "stdout",
     "output_type": "stream",
     "text": [
      "[1, 'apple', 2, 'cherry']\n"
     ]
    }
   ],
   "source": [
    "# Slicing\n",
    "print(fruits[1: ])"
   ]
  },
  {
   "cell_type": "code",
   "execution_count": 37,
   "id": "7668e40f-c165-484e-87e8-3939bcea5219",
   "metadata": {},
   "outputs": [
    {
     "name": "stdout",
     "output_type": "stream",
     "text": [
      "[1, 'apple', 2]\n"
     ]
    }
   ],
   "source": [
    "# Slicing\n",
    "print(fruits[1: 4])"
   ]
  },
  {
   "cell_type": "code",
   "execution_count": 38,
   "id": "0572281e-2dff-4c41-96db-290b5e1d5895",
   "metadata": {},
   "outputs": [
    {
     "name": "stdout",
     "output_type": "stream",
     "text": [
      "['banana', 1, 'apple', 2, 'dragon fruit']\n"
     ]
    }
   ],
   "source": [
    "# Modifying the element\n",
    "fruits[4] = \"dragon fruit\"\n",
    "print(fruits)"
   ]
  },
  {
   "cell_type": "code",
   "execution_count": 39,
   "id": "41f08939-ecbe-4d80-b25c-a8d00c043c9a",
   "metadata": {},
   "outputs": [
    {
     "name": "stdout",
     "output_type": "stream",
     "text": [
      "['dragon fruit', 2, 'apple', 1, 'banana']\n"
     ]
    }
   ],
   "source": [
    "fruits.reverse()\n",
    "print(fruits)"
   ]
  },
  {
   "cell_type": "code",
   "execution_count": 40,
   "id": "17414ce0-1bf6-40aa-91b8-9a5f2df0e611",
   "metadata": {},
   "outputs": [
    {
     "name": "stdout",
     "output_type": "stream",
     "text": [
      "['banana', 1, 'apple', 2, 'dragon fruit']\n"
     ]
    }
   ],
   "source": [
    "print(fruits[::-1])"
   ]
  },
  {
   "cell_type": "raw",
   "id": "07deb2e2-a5da-430e-9fa9-9a2e941d9ee0",
   "metadata": {},
   "source": [
    "## Tuples\n",
    "\n",
    "- cannot be changed (unmutable)\n",
    "- heterogenous elements are stored\n",
    "- always created within ()\n",
    "- Only you can access the elements"
   ]
  },
  {
   "cell_type": "code",
   "execution_count": 41,
   "id": "a575971c-1d6b-4f26-b02c-106b4dc2e7d0",
   "metadata": {},
   "outputs": [
    {
     "name": "stdout",
     "output_type": "stream",
     "text": [
      "1\n",
      "(2, 3, 4)\n"
     ]
    }
   ],
   "source": [
    "# Creating a tuple\n",
    "my_tuple = (1, 2, 3, 4, 5)\n",
    "\n",
    "# Accessing elements\n",
    "print(my_tuple[0])\n",
    "\n",
    "# Tuples are immutable\n",
    "# my_tuple[1] = 10 # this will raise a typeError\n",
    "\n",
    "# Slicing\n",
    "print(my_tuple[1:4])"
   ]
  },
  {
   "cell_type": "code",
   "execution_count": 42,
   "id": "e5d4feaa-a623-4951-b8bb-d7b337035ce5",
   "metadata": {},
   "outputs": [],
   "source": [
    "# Dictionaries"
   ]
  },
  {
   "cell_type": "code",
   "execution_count": 43,
   "id": "9bcb80e9-94ce-4c1d-8ff0-2de9faf0497b",
   "metadata": {},
   "outputs": [
    {
     "name": "stdout",
     "output_type": "stream",
     "text": [
      "Alice\n",
      "{'name': 'Alice', 'city': 'New York'}\n"
     ]
    }
   ],
   "source": [
    "# Creating a dictionary\n",
    "my_dict = {'name': 'Alice', 'age': 25, 'city': 'New York'}\n",
    "\n",
    "# Accessing values\n",
    "print(my_dict['name'])\n",
    "\n",
    "# Adding key-value pairs\n",
    "del my_dict['age']\n",
    "print(my_dict)"
   ]
  },
  {
   "cell_type": "raw",
   "id": "30cfd2fc-eb49-4265-8db6-b35b04a68644",
   "metadata": {},
   "source": [
    "## Sets\n",
    "\n",
    "- unordered elements\n",
    "- unique elements\n",
    "- mutable\n",
    "- no indexing\n"
   ]
  },
  {
   "cell_type": "code",
   "execution_count": 44,
   "id": "fbb114a2-1bbc-4008-a6b2-d299cb489343",
   "metadata": {
    "scrolled": true
   },
   "outputs": [
    {
     "name": "stdout",
     "output_type": "stream",
     "text": [
      "{1, 2, 3, 4, 5, 6}\n",
      "{1, 2, 4, 5, 6}\n",
      "{4, 5, 6}\n",
      "{1, 2, 4, 5, 6, 7, 8}\n",
      "{1, 2}\n"
     ]
    }
   ],
   "source": [
    "# Creating a set\n",
    "my_set = {1, 2, 3, 4, 5}\n",
    "\n",
    "# adding elements\n",
    "my_set.add(6)\n",
    "print(my_set)\n",
    "\n",
    "# Removing elements\n",
    "my_set.remove(3)\n",
    "print(my_set)\n",
    "\n",
    "#Set operations\n",
    "another_set = {4, 5, 6, 7, 8}\n",
    "print(my_set & another_set) #intersection\n",
    "print(my_set | another_set) #union\n",
    "print(my_set - another_set) #difference"
   ]
  }
 ],
 "metadata": {
  "kernelspec": {
   "display_name": "Python 3 (ipykernel)",
   "language": "python",
   "name": "python3"
  },
  "language_info": {
   "codemirror_mode": {
    "name": "ipython",
    "version": 3
   },
   "file_extension": ".py",
   "mimetype": "text/x-python",
   "name": "python",
   "nbconvert_exporter": "python",
   "pygments_lexer": "ipython3",
   "version": "3.11.7"
  }
 },
 "nbformat": 4,
 "nbformat_minor": 5
}
