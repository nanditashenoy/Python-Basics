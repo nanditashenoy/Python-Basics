{
 "cells": [
  {
   "cell_type": "code",
   "execution_count": 1,
   "id": "7391fa90-c10d-4c51-a076-336ab267e383",
   "metadata": {},
   "outputs": [],
   "source": [
    "import numpy as np"
   ]
  },
  {
   "cell_type": "code",
   "execution_count": 2,
   "id": "ffd2c63a-ea16-4b1a-bdbf-8f6fc2490842",
   "metadata": {},
   "outputs": [
    {
     "name": "stdout",
     "output_type": "stream",
     "text": [
      "[1 2 3 4 5] [0. 0. 0. 0. 0.] [[1. 1. 1.]\n",
      " [1. 1. 1.]\n",
      " [1. 1. 1.]] [2 4 6 8] [[0.57806266 0.42519754 0.7362514 ]\n",
      " [0.77260453 0.25338466 0.75674221]\n",
      " [0.67010438 0.55834191 0.79530051]]\n",
      "1\n",
      "[2 3 4]\n"
     ]
    }
   ],
   "source": [
    "arr1 = np.array([1, 2, 3, 4, 5])\n",
    "\n",
    "arr2 = np.zeros(5)\n",
    "\n",
    "arr3 = np.ones((3,3))\n",
    "\n",
    "arr4 = np.arange(2, 10, 2)\n",
    "\n",
    "arr5 = np.random.random((3, 3))\n",
    "\n",
    "print(arr1, arr2, arr3, arr4, arr5)\n",
    "\n",
    "#accessing elements\n",
    "print(arr1[0])\n",
    "\n",
    "#slicing\n",
    "print(arr1[1:4])"
   ]
  },
  {
   "cell_type": "code",
   "execution_count": 3,
   "id": "3839c1d1-ab8a-4bd9-b3e1-ab84ab051b25",
   "metadata": {
    "scrolled": true
   },
   "outputs": [
    {
     "name": "stdout",
     "output_type": "stream",
     "text": [
      "[1. 2. 3. 4. 5.]\n"
     ]
    }
   ],
   "source": [
    "arr6 = arr1 + arr2\n",
    "print(arr6)"
   ]
  },
  {
   "cell_type": "code",
   "execution_count": 4,
   "id": "c1f8fd0b-a20f-43c3-8cd7-652b481fb937",
   "metadata": {},
   "outputs": [
    {
     "name": "stdout",
     "output_type": "stream",
     "text": [
      "15\n",
      "[ 2  4  6  8 10]\n"
     ]
    }
   ],
   "source": [
    "print(np.sum(arr1))\n",
    "\n",
    "arr7 = arr1 * 2\n",
    "print(arr7)"
   ]
  },
  {
   "cell_type": "code",
   "execution_count": 5,
   "id": "0e1398d3-2939-460b-9ab7-9cdefa1ac7b2",
   "metadata": {},
   "outputs": [
    {
     "name": "stdout",
     "output_type": "stream",
     "text": [
      "[[0 1 2]\n",
      " [3 4 5]\n",
      " [6 7 8]]\n"
     ]
    }
   ],
   "source": [
    "arr8 = np.arange(9).reshape(3, 3)\n",
    "print(arr8)"
   ]
  },
  {
   "cell_type": "code",
   "execution_count": 6,
   "id": "d5f93796-8977-45f4-8986-e5370be6cc73",
   "metadata": {},
   "outputs": [
    {
     "name": "stdout",
     "output_type": "stream",
     "text": [
      "[ 0.84147098  0.90929743  0.14112001 -0.7568025  -0.95892427]\n"
     ]
    }
   ],
   "source": [
    "arr13 = np.sin(arr1)\n",
    "print(arr13)"
   ]
  },
  {
   "cell_type": "code",
   "execution_count": 7,
   "id": "ae776917-db4b-4673-a7e6-b9c9885cfb48",
   "metadata": {},
   "outputs": [
    {
     "name": "stdout",
     "output_type": "stream",
     "text": [
      "[1 3 5]\n"
     ]
    }
   ],
   "source": [
    "indices = np.array([0, 2, 4])\n",
    "print(arr1[indices])"
   ]
  },
  {
   "cell_type": "code",
   "execution_count": 8,
   "id": "b685f03a-b901-49aa-8550-4d3e33e72c70",
   "metadata": {},
   "outputs": [
    {
     "name": "stdout",
     "output_type": "stream",
     "text": [
      "[False False False  True  True]\n",
      "[4 5]\n"
     ]
    }
   ],
   "source": [
    "bool_arr = arr1 > 3\n",
    "print(bool_arr)\n",
    "print(arr1[bool_arr])"
   ]
  },
  {
   "cell_type": "code",
   "execution_count": 9,
   "id": "6252df78-6254-4535-88da-13181af9446f",
   "metadata": {},
   "outputs": [
    {
     "name": "stdout",
     "output_type": "stream",
     "text": [
      "[11 12 13 14 15]\n"
     ]
    }
   ],
   "source": [
    "arr14 = arr1 + 10\n",
    "print(arr14)"
   ]
  },
  {
   "cell_type": "code",
   "execution_count": 10,
   "id": "38e4e528-4667-4af8-90d1-966f029dd348",
   "metadata": {},
   "outputs": [
    {
     "name": "stdout",
     "output_type": "stream",
     "text": [
      "[[11 12 13 14 15]\n",
      " [21 22 23 24 25]\n",
      " [31 32 33 34 35]\n",
      " [41 42 43 44 45]\n",
      " [51 52 53 54 55]]\n"
     ]
    }
   ],
   "source": [
    "arr15 = arr1 + np.array([[10], [20], [30], [40], [50]])\n",
    "print(arr15)"
   ]
  },
  {
   "cell_type": "code",
   "execution_count": null,
   "id": "8f2375c2-06bf-4b51-a230-1e6a63c82e69",
   "metadata": {},
   "outputs": [],
   "source": []
  }
 ],
 "metadata": {
  "kernelspec": {
   "display_name": "Python 3 (ipykernel)",
   "language": "python",
   "name": "python3"
  },
  "language_info": {
   "codemirror_mode": {
    "name": "ipython",
    "version": 3
   },
   "file_extension": ".py",
   "mimetype": "text/x-python",
   "name": "python",
   "nbconvert_exporter": "python",
   "pygments_lexer": "ipython3",
   "version": "3.11.7"
  }
 },
 "nbformat": 4,
 "nbformat_minor": 5
}
