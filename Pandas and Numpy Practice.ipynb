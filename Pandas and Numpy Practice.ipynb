{
 "cells": [
  {
   "cell_type": "raw",
   "id": "4a321dae-ebe9-4e27-8176-1f26e57c9a77",
   "metadata": {},
   "source": [
    "#Numpy Python Practice"
   ]
  },
  {
   "cell_type": "code",
   "execution_count": 264,
   "id": "1994bd74-ea07-4ded-8574-43bad33abbf4",
   "metadata": {},
   "outputs": [],
   "source": [
    "import numpy as np"
   ]
  },
  {
   "cell_type": "code",
   "execution_count": 265,
   "id": "c2e9a82e-80ff-4a6b-bd34-063d36d5b8f9",
   "metadata": {},
   "outputs": [
    {
     "name": "stdout",
     "output_type": "stream",
     "text": [
      "[ 1  2  3  4  5  6  7  8  9 10]\n"
     ]
    }
   ],
   "source": [
    "arr1 = np.arange(1, 11, 1)\n",
    "print(arr1)"
   ]
  },
  {
   "cell_type": "code",
   "execution_count": 266,
   "id": "9b6874ce-af0f-4886-84c2-203938cf75e1",
   "metadata": {},
   "outputs": [
    {
     "name": "stdout",
     "output_type": "stream",
     "text": [
      "[ 1  3  5  7  9 11 13 15 17 19]\n"
     ]
    }
   ],
   "source": [
    "arr2 = np.arange(1, 21, 2)\n",
    "print(arr2)"
   ]
  },
  {
   "cell_type": "code",
   "execution_count": 267,
   "id": "6625e737-9db2-4dd3-a45d-d9ef479b7ae7",
   "metadata": {},
   "outputs": [
    {
     "name": "stdout",
     "output_type": "stream",
     "text": [
      "[ 2  5  8 11 14 17 20 23 26 29]\n",
      "[ 0 -1 -2 -3 -4 -5 -6 -7 -8 -9]\n",
      "[  1   6  15  28  45  66  91 120 153 190]\n",
      "[1.         0.66666667 0.6        0.57142857 0.55555556 0.54545455\n",
      " 0.53846154 0.53333333 0.52941176 0.52631579]\n"
     ]
    }
   ],
   "source": [
    "print(arr1 + arr2)\n",
    "print(arr1 - arr2)\n",
    "print(arr1 * arr2)\n",
    "print(arr1 / arr2)"
   ]
  },
  {
   "cell_type": "code",
   "execution_count": 268,
   "id": "f632bae5-7b4e-4815-b9a2-9cbde9dcc6c4",
   "metadata": {},
   "outputs": [
    {
     "name": "stdout",
     "output_type": "stream",
     "text": [
      "[1 2 3]\n"
     ]
    }
   ],
   "source": [
    "print(arr1[0:3])"
   ]
  },
  {
   "cell_type": "code",
   "execution_count": 269,
   "id": "21b56b5c-245e-4561-bc7b-6cc7ea4ebf99",
   "metadata": {},
   "outputs": [
    {
     "data": {
      "text/plain": [
       "array([[1, 2, 3],\n",
       "       [4, 5, 6]])"
      ]
     },
     "execution_count": 269,
     "metadata": {},
     "output_type": "execute_result"
    }
   ],
   "source": [
    "arr3 = np.array([1, 2, 3, 4, 5, 6])\n",
    "np.reshape(arr3, (-1, 3))"
   ]
  },
  {
   "cell_type": "code",
   "execution_count": 270,
   "id": "06c7e72c-c039-481c-b292-446e0e12ca49",
   "metadata": {},
   "outputs": [
    {
     "name": "stdout",
     "output_type": "stream",
     "text": [
      "5.5\n",
      "5.5\n",
      "2.8722813232690143\n"
     ]
    }
   ],
   "source": [
    "print(arr1.mean())\n",
    "print(np.median(arr1))\n",
    "print(arr1.std())"
   ]
  },
  {
   "cell_type": "raw",
   "id": "9c636f10-cb8e-4e59-8b72-3509549e7110",
   "metadata": {},
   "source": [
    "#Pandas Python Practice"
   ]
  },
  {
   "cell_type": "code",
   "execution_count": 271,
   "id": "31162df6-a7ad-489a-a70b-eaad24bfa4dc",
   "metadata": {},
   "outputs": [],
   "source": [
    "import pandas as pd"
   ]
  },
  {
   "cell_type": "code",
   "execution_count": 272,
   "id": "f78b9138-d4f9-43d1-a063-2f085b223fb1",
   "metadata": {},
   "outputs": [
    {
     "name": "stdout",
     "output_type": "stream",
     "text": [
      "      Name  Age  Weight\n",
      "0      Max   34     145\n",
      "1      Sam   20     111\n",
      "2     Josh   41     165\n",
      "3  Richard   45     143\n",
      "4   Thomas   67     156\n",
      "5      Ben   19     132\n"
     ]
    }
   ],
   "source": [
    "data = {'Name': ['Max', 'Sam', 'Josh', 'Richard', 'Thomas', 'Ben'],\n",
    " 'Age': [34, 20, 41, 45, 67, 19], 'Weight': [145, 111, 165, 143, 156, 132]}\n",
    "df1 = pd.DataFrame(data)\n",
    "print(df1)"
   ]
  },
  {
   "cell_type": "code",
   "execution_count": 273,
   "id": "108720cb-6261-4266-9797-310212d94029",
   "metadata": {},
   "outputs": [
    {
     "name": "stdout",
     "output_type": "stream",
     "text": [
      "      Name  Age  Weight         City  Weight-Age\n",
      "0      Max   34     145     New York         111\n",
      "1      Sam   20     111  Los Angeles          91\n",
      "2     Josh   41     165       Boston         124\n",
      "3  Richard   45     143       Boston          98\n",
      "4   Thomas   67     156       Boston          89\n",
      "5      Ben   19     132     New York         113\n"
     ]
    }
   ],
   "source": [
    "df1['City'] = ['New York', 'Los Angeles', 'Boston', 'Boston', 'Boston', 'New York']\n",
    "df1['Weight-Age'] = df1['Weight'] - df1['Age']\n",
    "print(df1)"
   ]
  },
  {
   "cell_type": "code",
   "execution_count": 274,
   "id": "4241e938-4575-49ae-a420-76e9ace3c416",
   "metadata": {},
   "outputs": [
    {
     "name": "stdout",
     "output_type": "stream",
     "text": [
      "\n",
      "Rows where Age > 30:\n",
      "      Name  Age  Weight      City  Weight-Age\n",
      "0      Max   34     145  New York         111\n",
      "2     Josh   41     165    Boston         124\n",
      "3  Richard   45     143    Boston          98\n",
      "4   Thomas   67     156    Boston          89\n",
      "\n",
      "Selected columns ('Name' and 'City'):\n",
      "      Name         City\n",
      "0      Max     New York\n",
      "1      Sam  Los Angeles\n",
      "2     Josh       Boston\n",
      "3  Richard       Boston\n",
      "4   Thomas       Boston\n",
      "5      Ben     New York\n"
     ]
    }
   ],
   "source": [
    "#Create condition\n",
    "condition = df1['Age'] > 30\n",
    "selected_rows = df1[condition]\n",
    "\n",
    "print(\"\\nRows where Age > 30:\")\n",
    "print(selected_rows)\n",
    "\n",
    "#Select columns by title\n",
    "selected_columns = df1[['Name', 'City']]\n",
    "\n",
    "print(\"\\nSelected columns ('Name' and 'City'):\")\n",
    "print(selected_columns)"
   ]
  },
  {
   "cell_type": "code",
   "execution_count": 275,
   "id": "66c8641a-ac9c-4e45-81ac-0cb4cc4daf48",
   "metadata": {},
   "outputs": [
    {
     "name": "stdout",
     "output_type": "stream",
     "text": [
      "\n",
      "Mean of each group:\n",
      "              Age      Weight  Weight-Age\n",
      "City                                     \n",
      "Boston       51.0  154.666667  103.666667\n",
      "Los Angeles  20.0  111.000000   91.000000\n",
      "New York     26.5  138.500000  112.000000\n"
     ]
    }
   ],
   "source": [
    "grouped_df = df1.groupby('City')\n",
    "\n",
    "#Calculate the mean of each group, excluding non-numeric columns\n",
    "mean_df = grouped_df.mean(numeric_only=True)\n",
    "\n",
    "#Display the mean of each group\n",
    "print(\"\\nMean of each group:\")\n",
    "print(mean_df)"
   ]
  },
  {
   "cell_type": "code",
   "execution_count": 276,
   "id": "d781ac53-077c-4b7f-9e78-9ddf12022ba4",
   "metadata": {},
   "outputs": [
    {
     "name": "stdout",
     "output_type": "stream",
     "text": [
      "      Name   Age  Weight         City  Weight-Age\n",
      "0      Max   NaN     145     New York         111\n",
      "1      Sam  20.0     111  Los Angeles          91\n",
      "2     Josh  41.0     165       Boston         124\n",
      "3  Richard  45.0     143       Boston          98\n",
      "4   Thomas  67.0     156       Boston          89\n",
      "5      Ben  19.0     132     New York         113\n"
     ]
    }
   ],
   "source": [
    "df1['Age'].replace(34, np.nan, inplace=True)\n",
    "print(df1)"
   ]
  },
  {
   "cell_type": "code",
   "execution_count": 277,
   "id": "3001b562-09ca-4ec4-a2bd-02dc56d2a8d6",
   "metadata": {},
   "outputs": [
    {
     "name": "stdout",
     "output_type": "stream",
     "text": [
      "\n",
      "DataFrame after Removing Rows with Missing Values:\n",
      "      Name   Age  Weight         City  Weight-Age\n",
      "1      Sam  20.0     111  Los Angeles          91\n",
      "2     Josh  41.0     165       Boston         124\n",
      "3  Richard  45.0     143       Boston          98\n",
      "4   Thomas  67.0     156       Boston          89\n",
      "5      Ben  19.0     132     New York         113\n"
     ]
    }
   ],
   "source": [
    "df_dropped = df1.dropna()\n",
    "print(\"\\nDataFrame after Removing Rows with Missing Values:\")\n",
    "print(df_dropped)"
   ]
  }
 ],
 "metadata": {
  "kernelspec": {
   "display_name": "Python 3 (ipykernel)",
   "language": "python",
   "name": "python3"
  },
  "language_info": {
   "codemirror_mode": {
    "name": "ipython",
    "version": 3
   },
   "file_extension": ".py",
   "mimetype": "text/x-python",
   "name": "python",
   "nbconvert_exporter": "python",
   "pygments_lexer": "ipython3",
   "version": "3.11.7"
  }
 },
 "nbformat": 4,
 "nbformat_minor": 5
}
