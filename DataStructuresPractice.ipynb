{
 "cells": [
  {
   "cell_type": "raw",
   "id": "9dbf844b-8d89-4929-b047-6438a2c3233e",
   "metadata": {},
   "source": [
    "#Data Structures Python Practice"
   ]
  },
  {
   "cell_type": "raw",
   "id": "4425892e-2aaa-4d3d-a17d-1bdb4e06f390",
   "metadata": {},
   "source": [
    "#Lists"
   ]
  },
  {
   "cell_type": "code",
   "execution_count": 33,
   "id": "5495d34c-df89-40a3-b62c-437e7b90fbb4",
   "metadata": {},
   "outputs": [
    {
     "name": "stdout",
     "output_type": "stream",
     "text": [
      "[]\n"
     ]
    }
   ],
   "source": [
    "my_list = []\n",
    "print(my_list)"
   ]
  },
  {
   "cell_type": "code",
   "execution_count": 34,
   "id": "499f3bda-aa5b-4427-8649-f69f6546a322",
   "metadata": {},
   "outputs": [
    {
     "name": "stdout",
     "output_type": "stream",
     "text": [
      "[1, 2, 3]\n"
     ]
    }
   ],
   "source": [
    "my_list.append(1)\n",
    "my_list.append(2)\n",
    "my_list.append(3)\n",
    "print(my_list)"
   ]
  },
  {
   "cell_type": "code",
   "execution_count": 35,
   "id": "b8e5758a-aa06-4bfe-a7b7-1ddac94eff5b",
   "metadata": {},
   "outputs": [
    {
     "name": "stdout",
     "output_type": "stream",
     "text": [
      "[1, 3]\n"
     ]
    }
   ],
   "source": [
    "my_list.remove(2)\n",
    "print(my_list)"
   ]
  },
  {
   "cell_type": "code",
   "execution_count": 36,
   "id": "32b21ec4-d147-493c-815d-97930e1bc210",
   "metadata": {},
   "outputs": [
    {
     "name": "stdout",
     "output_type": "stream",
     "text": [
      "banana\n"
     ]
    }
   ],
   "source": [
    "fruits = [\"apple\", \"banana\", \"cherry\", \"date\"]\n",
    "print(fruits[1])"
   ]
  },
  {
   "cell_type": "code",
   "execution_count": 37,
   "id": "9fa5cbc6-9e32-46ab-8577-4e0942987a1c",
   "metadata": {},
   "outputs": [
    {
     "name": "stdout",
     "output_type": "stream",
     "text": [
      "[3, 4, 5, 6]\n"
     ]
    }
   ],
   "source": [
    "numbers = [1, 2, 3, 4, 5, 6, 7, 8, 9, 10]\n",
    "print(numbers[2:6])"
   ]
  },
  {
   "cell_type": "raw",
   "id": "e069c3d0-2311-4942-9911-4d4cc517a632",
   "metadata": {},
   "source": [
    "#Sets"
   ]
  },
  {
   "cell_type": "code",
   "execution_count": 38,
   "id": "bb2da82b-44d5-4f19-bd65-2dd911ccccc4",
   "metadata": {},
   "outputs": [
    {
     "name": "stdout",
     "output_type": "stream",
     "text": [
      "set()\n"
     ]
    }
   ],
   "source": [
    "my_set = set()\n",
    "print(my_set)"
   ]
  },
  {
   "cell_type": "code",
   "execution_count": 39,
   "id": "88d1b1cb-f963-4ec2-987d-b7cfefe65471",
   "metadata": {},
   "outputs": [
    {
     "name": "stdout",
     "output_type": "stream",
     "text": [
      "{1, 2, 3}\n"
     ]
    }
   ],
   "source": [
    "my_set.add(1)\n",
    "my_set.add(2)\n",
    "my_set.add(3)\n",
    "print(my_set)"
   ]
  },
  {
   "cell_type": "code",
   "execution_count": 40,
   "id": "495bde56-7740-45f9-8a07-9705153ed31a",
   "metadata": {},
   "outputs": [
    {
     "name": "stdout",
     "output_type": "stream",
     "text": [
      "{1, 3}\n"
     ]
    }
   ],
   "source": [
    "my_set.remove(2)\n",
    "print(my_set)"
   ]
  },
  {
   "cell_type": "code",
   "execution_count": 41,
   "id": "3a7c724b-8866-42c9-9a8d-187f09b86437",
   "metadata": {},
   "outputs": [
    {
     "name": "stdout",
     "output_type": "stream",
     "text": [
      "{0, 1, 2, 3, 4, 5, 6, 8, 9}\n",
      "{8, 4, 6}\n",
      "{9, 3, 5}\n"
     ]
    }
   ],
   "source": [
    "set1 = {4, 8, 9, 5, 6, 3}\n",
    "set2 = {6, 4, 1, 0, 8, 2}\n",
    "print(set1 | set2)\n",
    "print(set1 & set2)\n",
    "print(set1 - set2)"
   ]
  },
  {
   "cell_type": "raw",
   "id": "2bf68457-6350-4360-95f8-09155098c273",
   "metadata": {},
   "source": [
    "#Tuples"
   ]
  },
  {
   "cell_type": "code",
   "execution_count": 42,
   "id": "25c7739c-1270-4d8d-94ad-d1b27a85dd7a",
   "metadata": {},
   "outputs": [
    {
     "name": "stdout",
     "output_type": "stream",
     "text": [
      "34.0549\n",
      "118.2426\n"
     ]
    }
   ],
   "source": [
    "#latitude, longitude of los angeles\n",
    "coordinates = (34.0549, 118.2426)\n",
    "print(coordinates[0])\n",
    "print(coordinates[1])"
   ]
  },
  {
   "cell_type": "code",
   "execution_count": 43,
   "id": "17761190-02e8-40d2-af05-014405b712d9",
   "metadata": {},
   "outputs": [
    {
     "name": "stdout",
     "output_type": "stream",
     "text": [
      "Samantha\n",
      "25\n",
      "Engineer\n",
      "New York\n"
     ]
    }
   ],
   "source": [
    "person = (\"Samantha\", 25, \"Engineer\", \"New York\")\n",
    "(name, age, occupation, city) = person\n",
    "print(name)\n",
    "print(age)\n",
    "print(occupation)\n",
    "print(city)"
   ]
  }
 ],
 "metadata": {
  "kernelspec": {
   "display_name": "Python 3 (ipykernel)",
   "language": "python",
   "name": "python3"
  },
  "language_info": {
   "codemirror_mode": {
    "name": "ipython",
    "version": 3
   },
   "file_extension": ".py",
   "mimetype": "text/x-python",
   "name": "python",
   "nbconvert_exporter": "python",
   "pygments_lexer": "ipython3",
   "version": "3.11.7"
  }
 },
 "nbformat": 4,
 "nbformat_minor": 5
}
